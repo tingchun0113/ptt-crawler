{
  "nbformat": 4,
  "nbformat_minor": 0,
  "metadata": {
    "colab": {
      "name": "ptt-crawler v1.0.0",
      "provenance": [],
      "collapsed_sections": [],
      "authorship_tag": "ABX9TyPEs6YHlJzU5poPdrrCPrpt",
      "include_colab_link": true
    },
    "kernelspec": {
      "name": "python3",
      "display_name": "Python 3"
    },
    "language_info": {
      "name": "python"
    }
  },
  "cells": [
    {
      "cell_type": "markdown",
      "metadata": {
        "id": "view-in-github",
        "colab_type": "text"
      },
      "source": [
        "<a href=\"https://colab.research.google.com/github/tingchun0113/ptt-crawler/blob/main/ptt_crawler_v1_0_0.ipynb\" target=\"_parent\"><img src=\"https://colab.research.google.com/assets/colab-badge.svg\" alt=\"Open In Colab\"/></a>"
      ]
    },
    {
      "cell_type": "markdown",
      "metadata": {
        "id": "Zv0yseykGB5V"
      },
      "source": [
        "## Install and import dependencies"
      ]
    },
    {
      "cell_type": "code",
      "metadata": {
        "id": "tsKXf8MCW0lq"
      },
      "source": [
        "!pip install requests_html\n",
        "import requests, urllib.parse, re, pandas as pd\n",
        "from requests_html import HTML\n",
        "from bs4 import BeautifulSoup\n",
        "from multiprocessing import Pool\n",
        "from itertools import repeat\n",
        "from google.colab import files"
      ],
      "execution_count": null,
      "outputs": []
    },
    {
      "cell_type": "markdown",
      "metadata": {
        "id": "bMzjfLoyFL7Q"
      },
      "source": [
        "## Variables"
      ]
    },
    {
      "cell_type": "code",
      "metadata": {
        "id": "ov9loSruXm17"
      },
      "source": [
        "board = 'Loan' #看板名稱\n",
        "domain = 'https://www.ptt.cc/'\n",
        "url = domain + 'bbs/' + board + '/index.html'\n",
        "\n",
        "num_pages = 10 #number of pages to be crawled\n",
        "title_keywords = ['房貸'] #e.g. title_keywords = ['房貸', '房屋'] (標題有 '房貸' 或 '房屋')"
      ],
      "execution_count": 8,
      "outputs": []
    },
    {
      "cell_type": "markdown",
      "metadata": {
        "id": "gCkdEIJMF4bF"
      },
      "source": [
        "## Functions"
      ]
    },
    {
      "cell_type": "code",
      "metadata": {
        "id": "g-3TG7ZKX347"
      },
      "source": [
        "def fetch(url):\n",
        "  res = requests.get(url)\n",
        "  res = requests.get(url, cookies={'over18': '1'})\n",
        "  return res\n",
        "\n",
        "def parse_article_entries(doc, el): \n",
        "  html = HTML(html=doc)\n",
        "  post_entries = html.find(el)\n",
        "  return post_entries\n",
        "\n",
        "def parse_article_meta(entry):\n",
        "  meta = {\n",
        "    'title': entry.find('div.title', first=True).text,\n",
        "    'push': entry.find('div.nrec', first=True).text,\n",
        "    'date': entry.find('div.date', first=True).text\n",
        "  }\n",
        "  try:\n",
        "    meta['author'] = entry.find('div.author', first=True).text\n",
        "    meta['link'] = entry.find('div.title > a', first=True).attrs['href']\n",
        "  except AttributeError:\n",
        "    meta['author'] = '[Deleted]'\n",
        "    meta['link'] = '[Deleted]'\n",
        "  return meta\n",
        "\n",
        "def get_metadata_from(url):\n",
        "  \n",
        "  def parse_next_link(doc):\n",
        "      html = HTML(html=doc)\n",
        "      controls = html.find('.action-bar a.btn.wide')\n",
        "      link = controls[1].attrs.get('href')\n",
        "      return urllib.parse.urljoin(domain, link)\n",
        "\n",
        "  res = fetch(url)\n",
        "  post_entries = parse_article_entries(res.text, 'div.r-ent')\n",
        "  next_link = parse_next_link(res.text)\n",
        "  \n",
        "  metadata = [parse_article_meta(entry) for entry in post_entries]\n",
        "  return metadata, next_link\n",
        "\n",
        "def get_paged_meta(url, num_pages):\n",
        "  collected_meta = []\n",
        "\n",
        "  for _ in range(num_pages):\n",
        "    posts, link = get_metadata_from(url)\n",
        "    collected_meta += posts\n",
        "    url = urllib.parse.urljoin(domain, link)\n",
        "\n",
        "  return collected_meta\n",
        "\n",
        "def create_fields(titles, dates, links, filtered_meta, meta):\n",
        "  titles.append(meta['title'])\n",
        "  dates.append(meta['date'])\n",
        "  if meta['link']:\n",
        "    links.append(urllib.parse.urljoin(domain, meta['link'])) \n",
        "  filtered_meta.append(meta)\n",
        "\n",
        "  return titles, dates, links, filtered_meta\n",
        "\n",
        "def filter_metadata(url, num_pages):\n",
        "  titles = []\n",
        "  dates = []\n",
        "  links = []\n",
        "  filtered_meta = []\n",
        "\n",
        "  metadata = get_paged_meta(url, num_pages)\n",
        "  for meta in metadata:\n",
        "    if len(title_keywords) != 0:\n",
        "      for text in title_keywords: \n",
        "        if text in meta['title']:\n",
        "          create_fields(titles, dates, links, filtered_meta, meta)\n",
        "    else: \n",
        "      create_fields(titles, dates, links, filtered_meta, meta)\n",
        "\n",
        "  return titles, dates, links, filtered_meta\n",
        "\n",
        "def parse_content_from(link):\n",
        "  res = fetch(link)\n",
        "  soup = BeautifulSoup(res.text, 'html.parser')\n",
        "  main_container = soup.find(id='main-container')\n",
        "\n",
        "  try:\n",
        "    pre_text = main_container.text.split('※ 發信站')[0]\n",
        "    texts = pre_text.split('\\n')[2:]\n",
        "    data = '\\n'.join(texts)\n",
        "\n",
        "  except AttributeError:\n",
        "    data = '[Deleted]'\n",
        "  return data\n",
        "\n",
        "def get_contents(metadata):\n",
        "  contents = []\n",
        "\n",
        "  with Pool(processes=8) as pool:\n",
        "    contents = pool.map(parse_content_from, links)\n",
        "    return contents"
      ],
      "execution_count": 9,
      "outputs": []
    },
    {
      "cell_type": "markdown",
      "metadata": {
        "id": "m7dHfXmbEGO4"
      },
      "source": [
        "## Preview crawled data\n",
        "\n",
        "\n",
        "\n",
        "\n"
      ]
    },
    {
      "cell_type": "code",
      "metadata": {
        "id": "H93IhsnSaJJH",
        "colab": {
          "base_uri": "https://localhost:8080/",
          "height": 419
        },
        "outputId": "a6cc5347-70d3-4b7a-a03a-7206378c7d12"
      },
      "source": [
        "titles, dates, links, filtered_meta = filter_metadata(url, num_pages)\n",
        "contents = get_contents(filtered_meta)\n",
        "\n",
        "df = pd.DataFrame({'發文日期': dates, '標題': titles, '文章網址': links, '文章內容': contents})\n",
        "df"
      ],
      "execution_count": 10,
      "outputs": [
        {
          "output_type": "execute_result",
          "data": {
            "text/html": [
              "<div>\n",
              "<style scoped>\n",
              "    .dataframe tbody tr th:only-of-type {\n",
              "        vertical-align: middle;\n",
              "    }\n",
              "\n",
              "    .dataframe tbody tr th {\n",
              "        vertical-align: top;\n",
              "    }\n",
              "\n",
              "    .dataframe thead th {\n",
              "        text-align: right;\n",
              "    }\n",
              "</style>\n",
              "<table border=\"1\" class=\"dataframe\">\n",
              "  <thead>\n",
              "    <tr style=\"text-align: right;\">\n",
              "      <th></th>\n",
              "      <th>發文日期</th>\n",
              "      <th>標題</th>\n",
              "      <th>文章網址</th>\n",
              "      <th>文章內容</th>\n",
              "    </tr>\n",
              "  </thead>\n",
              "  <tbody>\n",
              "    <tr>\n",
              "      <th>0</th>\n",
              "      <td>11/29</td>\n",
              "      <td>[問題] 新北公務員首購房貸</td>\n",
              "      <td>https://www.ptt.cc/bbs/Loan/M.1638196377.A.2E6...</td>\n",
              "      <td>1.地點：新北市中和區（永安市場-景安）\\n2.坪數：權狀坪數約18坪\\n3.用途：自住\\n...</td>\n",
              "    </tr>\n",
              "    <tr>\n",
              "      <th>1</th>\n",
              "      <td>11/30</td>\n",
              "      <td>[問題] 台中-房貸轉貸/增貸</td>\n",
              "      <td>https://www.ptt.cc/bbs/Loan/M.1638203458.A.0E8...</td>\n",
              "      <td>1.地點：台中北屯\\n2.用途：自住\\n3.屋齡：6年\\n4.房屋類型：社區大樓\\n5.坪數...</td>\n",
              "    </tr>\n",
              "    <tr>\n",
              "      <th>2</th>\n",
              "      <td>11/30</td>\n",
              "      <td>[問題]竹北首購房貸 30-40年</td>\n",
              "      <td>https://www.ptt.cc/bbs/Loan/M.1638205422.A.62B...</td>\n",
              "      <td>[房屋資訊]\\n地點：竹北市鹿場里\\n坪數：大樓/權狀57含車位6\\n用途：首購自住(名下無...</td>\n",
              "    </tr>\n",
              "    <tr>\n",
              "      <th>3</th>\n",
              "      <td>11/30</td>\n",
              "      <td>[問題] 國泰房貸增貸</td>\n",
              "      <td>https://www.ptt.cc/bbs/Loan/M.1638238308.A.3C3...</td>\n",
              "      <td>\\n請教有在國泰辦過增貸的大大\\n想在設定內額度已還近半的房貸增貸\\n直接問客服 或是找原本...</td>\n",
              "    </tr>\n",
              "    <tr>\n",
              "      <th>4</th>\n",
              "      <td>6/19</td>\n",
              "      <td>【 房貸-要注意些什麼 】</td>\n",
              "      <td>https://www.ptt.cc/bbs/Loan/M.1403108148.A.386...</td>\n",
              "      <td>\\n\\n提供自己本身在銀行服務的經驗\\n\\n給大家一些申辦房貸時的提醒\\n\\n\\n1.購屋買...</td>\n",
              "    </tr>\n",
              "    <tr>\n",
              "      <th>...</th>\n",
              "      <td>...</td>\n",
              "      <td>...</td>\n",
              "      <td>...</td>\n",
              "      <td>...</td>\n",
              "    </tr>\n",
              "    <tr>\n",
              "      <th>68</th>\n",
              "      <td>11/22</td>\n",
              "      <td>[問題] 桃園青埔房貸</td>\n",
              "      <td>https://www.ptt.cc/bbs/Loan/M.1637581072.A.024...</td>\n",
              "      <td>\\n地點:桃園大園區門牌，離高鐵很近\\n類型:社區大樓\\n坪數:權狀約80坪（含車位15....</td>\n",
              "    </tr>\n",
              "    <tr>\n",
              "      <th>69</th>\n",
              "      <td>11/22</td>\n",
              "      <td>[問題] 台北房貸</td>\n",
              "      <td>https://www.ptt.cc/bbs/Loan/M.1637593142.A.63F...</td>\n",
              "      <td>地點：台北市萬華區\\n用途：自住\\n型態：華厦（4樓/總樓層9樓）\\n屋齡：37年\\n房價：...</td>\n",
              "    </tr>\n",
              "    <tr>\n",
              "      <th>70</th>\n",
              "      <td>11/23</td>\n",
              "      <td>[問題] 台中房貸</td>\n",
              "      <td>https://www.ptt.cc/bbs/Loan/M.1637633817.A.A08...</td>\n",
              "      <td>地點：台中市\\n用途：自住\\n型態：透天\\n屋齡：22年\\n房價：3234\\n權狀坪數：土地...</td>\n",
              "    </tr>\n",
              "    <tr>\n",
              "      <th>71</th>\n",
              "      <td>11/23</td>\n",
              "      <td>[問題] 台北首購房貸</td>\n",
              "      <td>https://www.ptt.cc/bbs/Loan/M.1637636616.A.82B...</td>\n",
              "      <td>[房屋資訊]\\n地點：台北市中山區長春路\\n房型：電梯大樓\\n坪數：除車位約27坪\\n用途：...</td>\n",
              "    </tr>\n",
              "    <tr>\n",
              "      <th>72</th>\n",
              "      <td>11/23</td>\n",
              "      <td>[問題] 新北首購房貸</td>\n",
              "      <td>https://www.ptt.cc/bbs/Loan/M.1637647388.A.69C...</td>\n",
              "      <td>[房屋資訊]\\n地點：新北市汐止區\\n房型：電梯大樓\\n坪數：29坪含車位,車位7坪\\n用途...</td>\n",
              "    </tr>\n",
              "  </tbody>\n",
              "</table>\n",
              "<p>73 rows × 4 columns</p>\n",
              "</div>"
            ],
            "text/plain": [
              "     發文日期  ...                                               文章內容\n",
              "0   11/29  ...  1.地點：新北市中和區（永安市場-景安）\\n2.坪數：權狀坪數約18坪\\n3.用途：自住\\n...\n",
              "1   11/30  ...  1.地點：台中北屯\\n2.用途：自住\\n3.屋齡：6年\\n4.房屋類型：社區大樓\\n5.坪數...\n",
              "2   11/30  ...  [房屋資訊]\\n地點：竹北市鹿場里\\n坪數：大樓/權狀57含車位6\\n用途：首購自住(名下無...\n",
              "3   11/30  ...  \\n請教有在國泰辦過增貸的大大\\n想在設定內額度已還近半的房貸增貸\\n直接問客服 或是找原本...\n",
              "4    6/19  ...  \\n\\n提供自己本身在銀行服務的經驗\\n\\n給大家一些申辦房貸時的提醒\\n\\n\\n1.購屋買...\n",
              "..    ...  ...                                                ...\n",
              "68  11/22  ...   \\n地點:桃園大園區門牌，離高鐵很近\\n類型:社區大樓\\n坪數:權狀約80坪（含車位15....\n",
              "69  11/22  ...  地點：台北市萬華區\\n用途：自住\\n型態：華厦（4樓/總樓層9樓）\\n屋齡：37年\\n房價：...\n",
              "70  11/23  ...  地點：台中市\\n用途：自住\\n型態：透天\\n屋齡：22年\\n房價：3234\\n權狀坪數：土地...\n",
              "71  11/23  ...  [房屋資訊]\\n地點：台北市中山區長春路\\n房型：電梯大樓\\n坪數：除車位約27坪\\n用途：...\n",
              "72  11/23  ...  [房屋資訊]\\n地點：新北市汐止區\\n房型：電梯大樓\\n坪數：29坪含車位,車位7坪\\n用途...\n",
              "\n",
              "[73 rows x 4 columns]"
            ]
          },
          "metadata": {},
          "execution_count": 10
        }
      ]
    },
    {
      "cell_type": "markdown",
      "metadata": {
        "id": "q57Sthmb7iui"
      },
      "source": [
        "##Add columns (e.g. housing_prices, annual_incomes)"
      ]
    },
    {
      "cell_type": "code",
      "metadata": {
        "colab": {
          "base_uri": "https://localhost:8080/",
          "height": 606
        },
        "id": "FEw8L4DI7zeG",
        "outputId": "39f442af-ed7b-426c-9e1e-cab31f4e6700"
      },
      "source": [
        "#新增欄位關鍵字 (e.g. 「房價」欄位會有哪些關鍵字)\n",
        "housing_prices_keywords = ['房價', '售價', '屋價', '成交']\n",
        "annual_incomes_keywords = ['收入', '年收', '年薪']\n",
        "\n",
        "housing_prices = []\n",
        "annual_incomes = []\n",
        "\n",
        "def get_data_from(content, keywords): \n",
        "  texts = content.split('\\n')\n",
        "  data = ''\n",
        "\n",
        "  for text in texts:\n",
        "    try: \n",
        "      if any(i in text for i in keywords):\n",
        "        data = re.split(r':|：', text)[1].strip()\n",
        "        return data\n",
        "    except IndexError:\n",
        "      data = ''\n",
        "      return data\n",
        "\n",
        "with Pool(processes=8) as pool:\n",
        "    housing_prices = pool.starmap(get_data_from, zip(contents, repeat(housing_prices_keywords)))\n",
        "    annual_incomes = pool.starmap(get_data_from, zip(contents, repeat(annual_incomes_keywords)))\n",
        "\n",
        "df['房價'] = housing_prices\n",
        "df['收入'] = annual_incomes\n",
        "df"
      ],
      "execution_count": 11,
      "outputs": [
        {
          "output_type": "execute_result",
          "data": {
            "text/html": [
              "<div>\n",
              "<style scoped>\n",
              "    .dataframe tbody tr th:only-of-type {\n",
              "        vertical-align: middle;\n",
              "    }\n",
              "\n",
              "    .dataframe tbody tr th {\n",
              "        vertical-align: top;\n",
              "    }\n",
              "\n",
              "    .dataframe thead th {\n",
              "        text-align: right;\n",
              "    }\n",
              "</style>\n",
              "<table border=\"1\" class=\"dataframe\">\n",
              "  <thead>\n",
              "    <tr style=\"text-align: right;\">\n",
              "      <th></th>\n",
              "      <th>發文日期</th>\n",
              "      <th>標題</th>\n",
              "      <th>文章網址</th>\n",
              "      <th>文章內容</th>\n",
              "      <th>房價</th>\n",
              "      <th>收入</th>\n",
              "    </tr>\n",
              "  </thead>\n",
              "  <tbody>\n",
              "    <tr>\n",
              "      <th>0</th>\n",
              "      <td>11/29</td>\n",
              "      <td>[問題] 新北公務員首購房貸</td>\n",
              "      <td>https://www.ptt.cc/bbs/Loan/M.1638196377.A.2E6...</td>\n",
              "      <td>1.地點：新北市中和區（永安市場-景安）\\n2.坪數：權狀坪數約18坪\\n3.用途：自住\\n...</td>\n",
              "      <td>1000萬</td>\n",
              "      <td>去年扣繳憑單70萬</td>\n",
              "    </tr>\n",
              "    <tr>\n",
              "      <th>1</th>\n",
              "      <td>11/30</td>\n",
              "      <td>[問題] 台中-房貸轉貸/增貸</td>\n",
              "      <td>https://www.ptt.cc/bbs/Loan/M.1638203458.A.0E8...</td>\n",
              "      <td>1.地點：台中北屯\\n2.用途：自住\\n3.屋齡：6年\\n4.房屋類型：社區大樓\\n5.坪數...</td>\n",
              "      <td>None</td>\n",
              "      <td>80</td>\n",
              "    </tr>\n",
              "    <tr>\n",
              "      <th>2</th>\n",
              "      <td>11/30</td>\n",
              "      <td>[問題]竹北首購房貸 30-40年</td>\n",
              "      <td>https://www.ptt.cc/bbs/Loan/M.1638205422.A.62B...</td>\n",
              "      <td>[房屋資訊]\\n地點：竹北市鹿場里\\n坪數：大樓/權狀57含車位6\\n用途：首購自住(名下無...</td>\n",
              "      <td>None</td>\n",
              "      <td>來信談 負債比偏高 另一半可當保人</td>\n",
              "    </tr>\n",
              "    <tr>\n",
              "      <th>3</th>\n",
              "      <td>11/30</td>\n",
              "      <td>[問題] 國泰房貸增貸</td>\n",
              "      <td>https://www.ptt.cc/bbs/Loan/M.1638238308.A.3C3...</td>\n",
              "      <td>\\n請教有在國泰辦過增貸的大大\\n想在設定內額度已還近半的房貸增貸\\n直接問客服 或是找原本...</td>\n",
              "      <td>None</td>\n",
              "      <td>None</td>\n",
              "    </tr>\n",
              "    <tr>\n",
              "      <th>4</th>\n",
              "      <td>6/19</td>\n",
              "      <td>【 房貸-要注意些什麼 】</td>\n",
              "      <td>https://www.ptt.cc/bbs/Loan/M.1403108148.A.386...</td>\n",
              "      <td>\\n\\n提供自己本身在銀行服務的經驗\\n\\n給大家一些申辦房貸時的提醒\\n\\n\\n1.購屋買...</td>\n",
              "      <td></td>\n",
              "      <td>None</td>\n",
              "    </tr>\n",
              "    <tr>\n",
              "      <th>...</th>\n",
              "      <td>...</td>\n",
              "      <td>...</td>\n",
              "      <td>...</td>\n",
              "      <td>...</td>\n",
              "      <td>...</td>\n",
              "      <td>...</td>\n",
              "    </tr>\n",
              "    <tr>\n",
              "      <th>68</th>\n",
              "      <td>11/22</td>\n",
              "      <td>[問題] 桃園青埔房貸</td>\n",
              "      <td>https://www.ptt.cc/bbs/Loan/M.1637581072.A.024...</td>\n",
              "      <td>\\n地點:桃園大園區門牌，離高鐵很近\\n類型:社區大樓\\n坪數:權狀約80坪（含車位15....</td>\n",
              "      <td>2500萬</td>\n",
              "      <td>None</td>\n",
              "    </tr>\n",
              "    <tr>\n",
              "      <th>69</th>\n",
              "      <td>11/22</td>\n",
              "      <td>[問題] 台北房貸</td>\n",
              "      <td>https://www.ptt.cc/bbs/Loan/M.1637593142.A.63F...</td>\n",
              "      <td>地點：台北市萬華區\\n用途：自住\\n型態：華厦（4樓/總樓層9樓）\\n屋齡：37年\\n房價：...</td>\n",
              "      <td>1900</td>\n",
              "      <td>約140萬/其它60萬</td>\n",
              "    </tr>\n",
              "    <tr>\n",
              "      <th>70</th>\n",
              "      <td>11/23</td>\n",
              "      <td>[問題] 台中房貸</td>\n",
              "      <td>https://www.ptt.cc/bbs/Loan/M.1637633817.A.A08...</td>\n",
              "      <td>地點：台中市\\n用途：自住\\n型態：透天\\n屋齡：22年\\n房價：3234\\n權狀坪數：土地...</td>\n",
              "      <td>3234</td>\n",
              "      <td>250-300萬</td>\n",
              "    </tr>\n",
              "    <tr>\n",
              "      <th>71</th>\n",
              "      <td>11/23</td>\n",
              "      <td>[問題] 台北首購房貸</td>\n",
              "      <td>https://www.ptt.cc/bbs/Loan/M.1637636616.A.82B...</td>\n",
              "      <td>[房屋資訊]\\n地點：台北市中山區長春路\\n房型：電梯大樓\\n坪數：除車位約27坪\\n用途：...</td>\n",
              "      <td>2360萬</td>\n",
              "      <td>年收100+萬</td>\n",
              "    </tr>\n",
              "    <tr>\n",
              "      <th>72</th>\n",
              "      <td>11/23</td>\n",
              "      <td>[問題] 新北首購房貸</td>\n",
              "      <td>https://www.ptt.cc/bbs/Loan/M.1637647388.A.69C...</td>\n",
              "      <td>[房屋資訊]\\n地點：新北市汐止區\\n房型：電梯大樓\\n坪數：29坪含車位,車位7坪\\n用途...</td>\n",
              "      <td>845萬</td>\n",
              "      <td>年收70萬</td>\n",
              "    </tr>\n",
              "  </tbody>\n",
              "</table>\n",
              "<p>73 rows × 6 columns</p>\n",
              "</div>"
            ],
            "text/plain": [
              "     發文日期                 標題  ...     房價                 收入\n",
              "0   11/29     [問題] 新北公務員首購房貸  ...  1000萬          去年扣繳憑單70萬\n",
              "1   11/30    [問題] 台中-房貸轉貸/增貸  ...   None                 80\n",
              "2   11/30  [問題]竹北首購房貸 30-40年  ...   None  來信談 負債比偏高 另一半可當保人\n",
              "3   11/30        [問題] 國泰房貸增貸  ...   None               None\n",
              "4    6/19      【 房貸-要注意些什麼 】  ...                      None\n",
              "..    ...                ...  ...    ...                ...\n",
              "68  11/22        [問題] 桃園青埔房貸  ...  2500萬               None\n",
              "69  11/22          [問題] 台北房貸  ...   1900        約140萬/其它60萬\n",
              "70  11/23          [問題] 台中房貸  ...   3234           250-300萬\n",
              "71  11/23        [問題] 台北首購房貸  ...  2360萬            年收100+萬\n",
              "72  11/23        [問題] 新北首購房貸  ...   845萬              年收70萬\n",
              "\n",
              "[73 rows x 6 columns]"
            ]
          },
          "metadata": {},
          "execution_count": 11
        }
      ]
    },
    {
      "cell_type": "markdown",
      "metadata": {
        "id": "MkNyyITRei86"
      },
      "source": [
        "## Save to CSV"
      ]
    },
    {
      "cell_type": "code",
      "metadata": {
        "colab": {
          "base_uri": "https://localhost:8080/",
          "height": 17
        },
        "id": "aT8_EqdOV-oj",
        "outputId": "847d5b83-c4fa-4e2a-a1aa-5dc4a6a6e785"
      },
      "source": [
        "df.to_csv('ptt_data.csv')\n",
        "files.download('ptt_data.csv')"
      ],
      "execution_count": 12,
      "outputs": [
        {
          "output_type": "display_data",
          "data": {
            "application/javascript": [
              "\n",
              "    async function download(id, filename, size) {\n",
              "      if (!google.colab.kernel.accessAllowed) {\n",
              "        return;\n",
              "      }\n",
              "      const div = document.createElement('div');\n",
              "      const label = document.createElement('label');\n",
              "      label.textContent = `Downloading \"${filename}\": `;\n",
              "      div.appendChild(label);\n",
              "      const progress = document.createElement('progress');\n",
              "      progress.max = size;\n",
              "      div.appendChild(progress);\n",
              "      document.body.appendChild(div);\n",
              "\n",
              "      const buffers = [];\n",
              "      let downloaded = 0;\n",
              "\n",
              "      const channel = await google.colab.kernel.comms.open(id);\n",
              "      // Send a message to notify the kernel that we're ready.\n",
              "      channel.send({})\n",
              "\n",
              "      for await (const message of channel.messages) {\n",
              "        // Send a message to notify the kernel that we're ready.\n",
              "        channel.send({})\n",
              "        if (message.buffers) {\n",
              "          for (const buffer of message.buffers) {\n",
              "            buffers.push(buffer);\n",
              "            downloaded += buffer.byteLength;\n",
              "            progress.value = downloaded;\n",
              "          }\n",
              "        }\n",
              "      }\n",
              "      const blob = new Blob(buffers, {type: 'application/binary'});\n",
              "      const a = document.createElement('a');\n",
              "      a.href = window.URL.createObjectURL(blob);\n",
              "      a.download = filename;\n",
              "      div.appendChild(a);\n",
              "      a.click();\n",
              "      div.remove();\n",
              "    }\n",
              "  "
            ],
            "text/plain": [
              "<IPython.core.display.Javascript object>"
            ]
          },
          "metadata": {}
        },
        {
          "output_type": "display_data",
          "data": {
            "application/javascript": [
              "download(\"download_22550627-5c46-47f4-ac18-a2139386221f\", \"ptt_data.csv\", 72685)"
            ],
            "text/plain": [
              "<IPython.core.display.Javascript object>"
            ]
          },
          "metadata": {}
        }
      ]
    }
  ]
}